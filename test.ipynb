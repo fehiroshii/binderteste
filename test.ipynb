{
 "cells": [
  {
   "cell_type": "code",
   "execution_count": 1,
   "metadata": {},
   "outputs": [],
   "source": [
    "import cv2 as cv"
   ]
  },
  {
   "cell_type": "code",
   "execution_count": 2,
   "metadata": {},
   "outputs": [
    {
     "name": "stdout",
     "output_type": "stream",
     "text": [
      "[[[149 149 149]\n",
      "  [150 150 150]\n",
      "  [145 145 145]\n",
      "  ...\n",
      "  [ 10  10  10]\n",
      "  [  8   8   8]\n",
      "  [  8   8   8]]\n",
      "\n",
      " [[146 146 146]\n",
      "  [150 150 150]\n",
      "  [148 148 148]\n",
      "  ...\n",
      "  [  5   5   5]\n",
      "  [  7   7   7]\n",
      "  [  6   6   6]]\n",
      "\n",
      " [[136 136 136]\n",
      "  [141 141 141]\n",
      "  [144 144 144]\n",
      "  ...\n",
      "  [  8   8   8]\n",
      "  [ 14  14  14]\n",
      "  [ 14  14  14]]\n",
      "\n",
      " ...\n",
      "\n",
      " [[113 113 113]\n",
      "  [112 112 112]\n",
      "  [108 108 108]\n",
      "  ...\n",
      "  [ 81  81  81]\n",
      "  [ 82  82  82]\n",
      "  [ 82  82  82]]\n",
      "\n",
      " [[115 115 115]\n",
      "  [115 115 115]\n",
      "  [112 112 112]\n",
      "  ...\n",
      "  [ 81  81  81]\n",
      "  [ 83  83  83]\n",
      "  [ 80  80  80]]\n",
      "\n",
      " [[117 117 117]\n",
      "  [117 117 117]\n",
      "  [115 115 115]\n",
      "  ...\n",
      "  [ 79  79  79]\n",
      "  [ 77  77  77]\n",
      "  [ 75  75  75]]]\n"
     ]
    }
   ],
   "source": [
    "path = \"D:/Documentos/Unicamp/IC/Videos/\"\n",
    "folder = \"\"\n",
    "name = \"basal\"\n",
    "extension = \".avi\"\n",
    "\n",
    "file = path + folder + name + extension\n",
    "\n",
    "video = cv.VideoCapture(file)\n",
    "\n",
    "ret, frame = video.read()\n",
    "\n",
    "cv.imshow('Original',frame)\n",
    "key = cv.waitKey(0)"
   ]
  }
 ],
 "metadata": {
  "interpreter": {
   "hash": "7c239c9e803aa87c3815454c42da92f1af28c0cbd1b711d488a058e58bc0122e"
  },
  "kernelspec": {
   "display_name": "Python 3.9.2 64-bit",
   "language": "python",
   "name": "python3"
  },
  "language_info": {
   "codemirror_mode": {
    "name": "ipython",
    "version": 3
   },
   "file_extension": ".py",
   "mimetype": "text/x-python",
   "name": "python",
   "nbconvert_exporter": "python",
   "pygments_lexer": "ipython3",
   "version": "3.9.2"
  },
  "orig_nbformat": 4
 },
 "nbformat": 4,
 "nbformat_minor": 2
}
